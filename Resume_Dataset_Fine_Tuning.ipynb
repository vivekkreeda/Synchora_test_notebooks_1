{
  "cells": [
    {
      "cell_type": "code",
      "source": [
        "pip install requests\n"
      ],
      "metadata": {
        "colab": {
          "base_uri": "https://localhost:8080/"
        },
        "id": "IB4v6KB6tvim",
        "outputId": "31fb1243-789c-4511-fc94-c0a113c5b084"
      },
      "execution_count": null,
      "outputs": [
        {
          "output_type": "stream",
          "name": "stdout",
          "text": [
            "Requirement already satisfied: requests in /usr/local/lib/python3.12/dist-packages (2.32.4)\n",
            "Requirement already satisfied: charset_normalizer<4,>=2 in /usr/local/lib/python3.12/dist-packages (from requests) (3.4.3)\n",
            "Requirement already satisfied: idna<4,>=2.5 in /usr/local/lib/python3.12/dist-packages (from requests) (3.10)\n",
            "Requirement already satisfied: urllib3<3,>=1.21.1 in /usr/local/lib/python3.12/dist-packages (from requests) (2.5.0)\n",
            "Requirement already satisfied: certifi>=2017.4.17 in /usr/local/lib/python3.12/dist-packages (from requests) (2025.8.3)\n"
          ]
        }
      ]
    },
    {
      "cell_type": "code",
      "source": [
        "!pip install langchain_mistralai"
      ],
      "metadata": {
        "colab": {
          "base_uri": "https://localhost:8080/"
        },
        "id": "73k8EKG5uKL6",
        "outputId": "e1466f8a-6b00-42da-ab5c-30a6dd915130"
      },
      "execution_count": null,
      "outputs": [
        {
          "output_type": "stream",
          "name": "stdout",
          "text": [
            "Collecting langchain_mistralai\n",
            "  Downloading langchain_mistralai-0.2.11-py3-none-any.whl.metadata (2.0 kB)\n",
            "Requirement already satisfied: langchain-core<1.0.0,>=0.3.68 in /usr/local/lib/python3.12/dist-packages (from langchain_mistralai) (0.3.74)\n",
            "Requirement already satisfied: tokenizers<1,>=0.15.1 in /usr/local/lib/python3.12/dist-packages (from langchain_mistralai) (0.21.4)\n",
            "Requirement already satisfied: httpx<1,>=0.25.2 in /usr/local/lib/python3.12/dist-packages (from langchain_mistralai) (0.28.1)\n",
            "Requirement already satisfied: httpx-sse<1,>=0.3.1 in /usr/local/lib/python3.12/dist-packages (from langchain_mistralai) (0.4.1)\n",
            "Requirement already satisfied: pydantic<3,>=2 in /usr/local/lib/python3.12/dist-packages (from langchain_mistralai) (2.11.7)\n",
            "Requirement already satisfied: anyio in /usr/local/lib/python3.12/dist-packages (from httpx<1,>=0.25.2->langchain_mistralai) (4.10.0)\n",
            "Requirement already satisfied: certifi in /usr/local/lib/python3.12/dist-packages (from httpx<1,>=0.25.2->langchain_mistralai) (2025.8.3)\n",
            "Requirement already satisfied: httpcore==1.* in /usr/local/lib/python3.12/dist-packages (from httpx<1,>=0.25.2->langchain_mistralai) (1.0.9)\n",
            "Requirement already satisfied: idna in /usr/local/lib/python3.12/dist-packages (from httpx<1,>=0.25.2->langchain_mistralai) (3.10)\n",
            "Requirement already satisfied: h11>=0.16 in /usr/local/lib/python3.12/dist-packages (from httpcore==1.*->httpx<1,>=0.25.2->langchain_mistralai) (0.16.0)\n",
            "Requirement already satisfied: langsmith>=0.3.45 in /usr/local/lib/python3.12/dist-packages (from langchain-core<1.0.0,>=0.3.68->langchain_mistralai) (0.4.14)\n",
            "Requirement already satisfied: tenacity!=8.4.0,<10.0.0,>=8.1.0 in /usr/local/lib/python3.12/dist-packages (from langchain-core<1.0.0,>=0.3.68->langchain_mistralai) (8.5.0)\n",
            "Requirement already satisfied: jsonpatch<2.0,>=1.33 in /usr/local/lib/python3.12/dist-packages (from langchain-core<1.0.0,>=0.3.68->langchain_mistralai) (1.33)\n",
            "Requirement already satisfied: PyYAML>=5.3 in /usr/local/lib/python3.12/dist-packages (from langchain-core<1.0.0,>=0.3.68->langchain_mistralai) (6.0.2)\n",
            "Requirement already satisfied: typing-extensions>=4.7 in /usr/local/lib/python3.12/dist-packages (from langchain-core<1.0.0,>=0.3.68->langchain_mistralai) (4.14.1)\n",
            "Requirement already satisfied: packaging>=23.2 in /usr/local/lib/python3.12/dist-packages (from langchain-core<1.0.0,>=0.3.68->langchain_mistralai) (25.0)\n",
            "Requirement already satisfied: annotated-types>=0.6.0 in /usr/local/lib/python3.12/dist-packages (from pydantic<3,>=2->langchain_mistralai) (0.7.0)\n",
            "Requirement already satisfied: pydantic-core==2.33.2 in /usr/local/lib/python3.12/dist-packages (from pydantic<3,>=2->langchain_mistralai) (2.33.2)\n",
            "Requirement already satisfied: typing-inspection>=0.4.0 in /usr/local/lib/python3.12/dist-packages (from pydantic<3,>=2->langchain_mistralai) (0.4.1)\n",
            "Requirement already satisfied: huggingface-hub<1.0,>=0.16.4 in /usr/local/lib/python3.12/dist-packages (from tokenizers<1,>=0.15.1->langchain_mistralai) (0.34.4)\n",
            "Requirement already satisfied: filelock in /usr/local/lib/python3.12/dist-packages (from huggingface-hub<1.0,>=0.16.4->tokenizers<1,>=0.15.1->langchain_mistralai) (3.19.1)\n",
            "Requirement already satisfied: fsspec>=2023.5.0 in /usr/local/lib/python3.12/dist-packages (from huggingface-hub<1.0,>=0.16.4->tokenizers<1,>=0.15.1->langchain_mistralai) (2025.3.0)\n",
            "Requirement already satisfied: requests in /usr/local/lib/python3.12/dist-packages (from huggingface-hub<1.0,>=0.16.4->tokenizers<1,>=0.15.1->langchain_mistralai) (2.32.4)\n",
            "Requirement already satisfied: tqdm>=4.42.1 in /usr/local/lib/python3.12/dist-packages (from huggingface-hub<1.0,>=0.16.4->tokenizers<1,>=0.15.1->langchain_mistralai) (4.67.1)\n",
            "Requirement already satisfied: hf-xet<2.0.0,>=1.1.3 in /usr/local/lib/python3.12/dist-packages (from huggingface-hub<1.0,>=0.16.4->tokenizers<1,>=0.15.1->langchain_mistralai) (1.1.7)\n",
            "Requirement already satisfied: jsonpointer>=1.9 in /usr/local/lib/python3.12/dist-packages (from jsonpatch<2.0,>=1.33->langchain-core<1.0.0,>=0.3.68->langchain_mistralai) (3.0.0)\n",
            "Requirement already satisfied: orjson>=3.9.14 in /usr/local/lib/python3.12/dist-packages (from langsmith>=0.3.45->langchain-core<1.0.0,>=0.3.68->langchain_mistralai) (3.11.2)\n",
            "Requirement already satisfied: requests-toolbelt>=1.0.0 in /usr/local/lib/python3.12/dist-packages (from langsmith>=0.3.45->langchain-core<1.0.0,>=0.3.68->langchain_mistralai) (1.0.0)\n",
            "Requirement already satisfied: zstandard>=0.23.0 in /usr/local/lib/python3.12/dist-packages (from langsmith>=0.3.45->langchain-core<1.0.0,>=0.3.68->langchain_mistralai) (0.24.0)\n",
            "Requirement already satisfied: sniffio>=1.1 in /usr/local/lib/python3.12/dist-packages (from anyio->httpx<1,>=0.25.2->langchain_mistralai) (1.3.1)\n",
            "Requirement already satisfied: charset_normalizer<4,>=2 in /usr/local/lib/python3.12/dist-packages (from requests->huggingface-hub<1.0,>=0.16.4->tokenizers<1,>=0.15.1->langchain_mistralai) (3.4.3)\n",
            "Requirement already satisfied: urllib3<3,>=1.21.1 in /usr/local/lib/python3.12/dist-packages (from requests->huggingface-hub<1.0,>=0.16.4->tokenizers<1,>=0.15.1->langchain_mistralai) (2.5.0)\n",
            "Downloading langchain_mistralai-0.2.11-py3-none-any.whl (16 kB)\n",
            "Installing collected packages: langchain_mistralai\n",
            "Successfully installed langchain_mistralai-0.2.11\n"
          ]
        }
      ]
    },
    {
      "cell_type": "code",
      "source": [
        "import json, re\n",
        "from collections import Counter\n",
        "\n",
        "# ==== CONFIG ====\n",
        "IN_JSONL  = \"/content/resumes.jsonl\"   # <- change path to your file\n",
        "OUT_JSONL = \"/content/qa_clean_user_assistant.jsonl\"\n",
        "\n",
        "def first_key(d):\n",
        "    return next(iter(d.keys())) if isinstance(d, dict) and d else None\n",
        "\n",
        "def get_from_messages(obj):\n",
        "    \"\"\"\n",
        "    Handle chat-like records:\n",
        "    {\"messages\": [{\"role\":\"system\",\"content\":\"...\"},{\"role\":\"user\",\"content\":\"...\"},{\"role\":\"assistant\",\"content\":\"...\"}]}\n",
        "    We take the LAST user turn and the FIRST assistant after it.\n",
        "    \"\"\"\n",
        "    msgs = obj.get(\"messages\")\n",
        "    if not isinstance(msgs, list) or not msgs:\n",
        "        return None, None\n",
        "    # Grab last user content\n",
        "    user_text = None\n",
        "    for m in reversed(msgs):\n",
        "        if isinstance(m, dict) and m.get(\"role\", \"\").lower() == \"user\":\n",
        "            user_text = str(m.get(\"content\", \"\")).strip()\n",
        "            break\n",
        "    if not user_text:\n",
        "        return None, None\n",
        "    # Find assistant after that user in original order\n",
        "    assistant_text = None\n",
        "    seen_user = False\n",
        "    for m in msgs:\n",
        "        if isinstance(m, dict) and m.get(\"role\", \"\").lower() == \"user\" and str(m.get(\"content\",\"\")).strip() == user_text:\n",
        "            seen_user = True\n",
        "            continue\n",
        "        if seen_user and isinstance(m, dict) and m.get(\"role\",\"\").lower() == \"assistant\":\n",
        "            assistant_text = str(m.get(\"content\",\"\")).strip()\n",
        "            break\n",
        "    return user_text, assistant_text\n",
        "\n",
        "def extract_qa(obj):\n",
        "    \"\"\"\n",
        "    Try multiple common schemas to get (user, assistant).\n",
        "    Return (None, None) if not found.\n",
        "    \"\"\"\n",
        "    # 1) messages schema\n",
        "    u, a = get_from_messages(obj)\n",
        "    if u and a:\n",
        "        return u, a\n",
        "\n",
        "    # 2) direct keys (try common variants)\n",
        "    key_variants = [\n",
        "        (\"user\", \"assistant\"),\n",
        "        (\"question\", \"answer\"),\n",
        "        (\"input\", \"output\"),\n",
        "        (\"prompt\", \"response\"),\n",
        "        (\"instruction\", \"output\"),\n",
        "        (\"human\", \"bot\"),\n",
        "        (\"Human\", \"Bot\"),\n",
        "        (\"User\", \"Assistant\"),\n",
        "    ]\n",
        "    for uk, ak in key_variants:\n",
        "        u = str(obj.get(uk, \"\") or \"\").strip()\n",
        "        a = str(obj.get(ak, \"\") or \"\").strip()\n",
        "        if u and a:\n",
        "            return u, a\n",
        "\n",
        "    # 3) some datasets use a single \"text\" with separators\n",
        "    t = str(obj.get(\"text\",\"\") or \"\").strip()\n",
        "    if t:\n",
        "        # Try simple splits like \"User: ...\\nAssistant: ...\"\n",
        "        m = re.search(r\"User:\\s*(.+?)\\s*Assistant:\\s*(.+)\", t, flags=re.S|re.I)\n",
        "        if m:\n",
        "            return m.group(1).strip(), m.group(2).strip()\n",
        "\n",
        "    return None, None\n",
        "\n",
        "# ---- PASS 1: scan keys to help debugging\n",
        "key_counter = Counter()\n",
        "lines = []\n",
        "with open(IN_JSONL, \"r\", encoding=\"utf-8\") as f:\n",
        "    for ln, line in enumerate(f, 1):\n",
        "        line = line.strip()\n",
        "        if not line:\n",
        "            continue\n",
        "        try:\n",
        "            obj = json.loads(line)\n",
        "            lines.append(obj)\n",
        "            key_counter.update(obj.keys())\n",
        "        except Exception as e:\n",
        "            # skip bad lines\n",
        "            continue\n",
        "\n",
        "print(\"Total lines parsed:\", len(lines))\n",
        "print(\"Top keys seen:\", key_counter.most_common(20))\n",
        "\n",
        "# ---- PASS 2: extract pairs\n",
        "pairs = []\n",
        "for obj in lines:\n",
        "    u, a = extract_qa(obj)\n",
        "    if u and a:\n",
        "        pairs.append({\"prompt\": f\"User: {u}\\nAssistant:\", \"completion\": a})\n",
        "\n",
        "print(\"Valid pairs found:\", len(pairs))\n",
        "print(\"Sample pairs:\", pairs[:3])\n",
        "\n",
        "# If still zero, print a few raw samples to inspect\n",
        "if len(pairs) == 0:\n",
        "    print(\"\\nNo pairs extracted. Here are 3 raw records to inspect keys/shapes:\\n\")\n",
        "    for rec in lines[:3]:\n",
        "        print(json.dumps(rec, ensure_ascii=False)[:800], \"\\n---\")\n",
        "else:\n",
        "    # write cleaned JSONL\n",
        "    with open(OUT_JSONL, \"w\", encoding=\"utf-8\") as w:\n",
        "        for r in pairs:\n",
        "            w.write(json.dumps(r, ensure_ascii=False) + \"\\n\")\n",
        "    print(f\"\\nWrote cleaned dataset to: {OUT_JSONL}\")\n"
      ],
      "metadata": {
        "colab": {
          "base_uri": "https://localhost:8080/"
        },
        "id": "-k9vRi75wQFp",
        "outputId": "26fa3ae9-f578-455f-a2ce-0e808abaf2e0"
      },
      "execution_count": 4,
      "outputs": [
        {
          "output_type": "stream",
          "name": "stdout",
          "text": [
            "Total lines parsed: 455\n",
            "Top keys seen: [('messages', 455)]\n",
            "Valid pairs found: 455\n",
            "Sample pairs: [{'prompt': 'User: Why is it important to stay updated with the latest advancements in technology and industry trends?\\nAssistant:', 'completion': 'Staying updated with the latest advancements in technology and industry trends is important because it helps professionals remain competitive, adapt to changes, and leverage new tools or methods to improve efficiency. It also enables individuals and organizations to anticipate market shifts, innovate, and make informed decisions that can lead to better project outcomes and business growth.'}, {'prompt': 'User: How does continuous learning benefit professionals in their careers?\\nAssistant:', 'completion': 'Continuous learning benefits professionals by enhancing their skills, keeping them relevant in a rapidly changing job market, and opening up new career opportunities. It also fosters adaptability, problem-solving abilities, and personal growth, which are valuable assets in any profession.'}, {'prompt': 'User: What are some effective ways to stay updated with industry trends?\\nAssistant:', 'completion': 'Effective ways to stay updated with industry trends include subscribing to industry newsletters, attending conferences and webinars, participating in professional networks, following thought leaders on social media, and regularly reading relevant journals and publications.'}]\n",
            "\n",
            "Wrote cleaned dataset to: /content/qa_clean_user_assistant.jsonl\n"
          ]
        }
      ]
    },
    {
      "cell_type": "code",
      "source": [
        "!head -n 3 /content/qa_clean_user_assistant.jsonl\n"
      ],
      "metadata": {
        "colab": {
          "base_uri": "https://localhost:8080/"
        },
        "id": "CUHKrt4Qwo-1",
        "outputId": "84329063-4554-4566-d1b2-b03c0fc519b3"
      },
      "execution_count": 5,
      "outputs": [
        {
          "output_type": "stream",
          "name": "stdout",
          "text": [
            "{\"prompt\": \"User: Why is it important to stay updated with the latest advancements in technology and industry trends?\\nAssistant:\", \"completion\": \"Staying updated with the latest advancements in technology and industry trends is important because it helps professionals remain competitive, adapt to changes, and leverage new tools or methods to improve efficiency. It also enables individuals and organizations to anticipate market shifts, innovate, and make informed decisions that can lead to better project outcomes and business growth.\"}\n",
            "{\"prompt\": \"User: How does continuous learning benefit professionals in their careers?\\nAssistant:\", \"completion\": \"Continuous learning benefits professionals by enhancing their skills, keeping them relevant in a rapidly changing job market, and opening up new career opportunities. It also fosters adaptability, problem-solving abilities, and personal growth, which are valuable assets in any profession.\"}\n",
            "{\"prompt\": \"User: What are some effective ways to stay updated with industry trends?\\nAssistant:\", \"completion\": \"Effective ways to stay updated with industry trends include subscribing to industry newsletters, attending conferences and webinars, participating in professional networks, following thought leaders on social media, and regularly reading relevant journals and publications.\"}\n"
          ]
        }
      ]
    },
    {
      "cell_type": "code",
      "source": [
        "from datasets import load_dataset\n",
        "dataset = load_dataset(\"json\", data_files=\"/content/qa_clean_user_assistant.jsonl\", split=\"train\")\n",
        "print(dataset[0])\n"
      ],
      "metadata": {
        "colab": {
          "base_uri": "https://localhost:8080/",
          "height": 87,
          "referenced_widgets": [
            "7cc86661e34e487eb803c8acbf86ee81",
            "a74a69f695bd460187cb4e14fe5f58ac",
            "2c04797f5e224f608c69e6d33c602066",
            "1713089eeb6f40e29a0769cc9802106c",
            "d5efaf969de94c6cb00f2ce1550da425",
            "f0a1b79f3c8e4658b33177c441de7a97",
            "70a03e7d96c444b3a98914ba23ca306d",
            "d6a90138c223474c840263a91dd94ca9",
            "a4bf731e6bb34e5eba34bc0ff49b6813",
            "f9d44e41fa5241e7a866993ac69193a6",
            "0d64dc41ba3f42e29fd5e882c3d770d0"
          ]
        },
        "id": "rywlUB5Vw50x",
        "outputId": "4b1a738e-e2e1-480b-db53-825d8bc2a475"
      },
      "execution_count": 6,
      "outputs": [
        {
          "output_type": "stream",
          "name": "stdout",
          "text": [
            "{'prompt': 'User: Why is it important to stay updated with the latest advancements in technology and industry trends?\\nAssistant:', 'completion': 'Staying updated with the latest advancements in technology and industry trends is important because it helps professionals remain competitive, adapt to changes, and leverage new tools or methods to improve efficiency. It also enables individuals and organizations to anticipate market shifts, innovate, and make informed decisions that can lead to better project outcomes and business growth.'}\n"
          ]
        }
      ]
    },
    {
      "cell_type": "code",
      "source": [
        "# ===== Minimal, version-proof LoRA SFT (no TRL needed) =====\n",
        "# Works with plain Hugging Face Transformers + PEFT.\n",
        "# Uses completion-only loss by masking prompt tokens to -100.\n",
        "\n",
        "!pip -q install \"transformers>=4.31.0\" \"datasets>=2.14.0\" \"peft>=0.6.0\" accelerate\n",
        "\n",
        "import json, random\n",
        "from dataclasses import dataclass\n",
        "from typing import List, Dict, Any\n",
        "import torch\n",
        "from torch.utils.data import Dataset\n",
        "from datasets import load_dataset\n",
        "from transformers import (\n",
        "    AutoTokenizer, AutoModelForCausalLM,\n",
        "    Trainer, TrainingArguments\n",
        ")\n",
        "from peft import LoraConfig, get_peft_model\n",
        "\n",
        "SEED = 42\n",
        "random.seed(SEED)\n",
        "torch.manual_seed(SEED)\n",
        "\n",
        "DATA_JSONL = \"/content/qa_clean_user_assistant.jsonl\"   # path to cleaned file\n",
        "MODEL_NAME = \"facebook/opt-350m\"                        # try a small model first\n",
        "OUTPUT_DIR = \"/content/qa_lora_out\"\n",
        "MAX_LEN = 512\n",
        "BATCH = 2\n",
        "EPOCHS = 1\n",
        "LR = 2e-4\n",
        "\n",
        "# ---------- Load dataset ----------\n",
        "ds = load_dataset(\"json\", data_files=DATA_JSONL, split=\"train\")\n",
        "splits = ds.train_test_split(test_size=0.1, seed=SEED)\n",
        "train_ds, val_ds = splits[\"train\"], splits[\"test\"]\n",
        "\n",
        "# ---------- Tokenizer & Base Model ----------\n",
        "tok = AutoTokenizer.from_pretrained(MODEL_NAME, use_fast=True)\n",
        "# ensure pad token for decoder-only models\n",
        "if tok.pad_token is None:\n",
        "    tok.pad_token = tok.eos_token\n",
        "\n",
        "base = AutoModelForCausalLM.from_pretrained(MODEL_NAME)\n",
        "\n",
        "# --\n"
      ],
      "metadata": {
        "id": "jtNrIPHHyOgy"
      },
      "execution_count": 13,
      "outputs": []
    },
    {
      "cell_type": "code",
      "source": [
        "pip install -U \"transformers>=4.31.0\"\n"
      ],
      "metadata": {
        "colab": {
          "base_uri": "https://localhost:8080/",
          "height": 778
        },
        "id": "_Aa5j2N1yv5A",
        "outputId": "9493b995-f6ae-4412-a3a4-6b45886b659a"
      },
      "execution_count": 15,
      "outputs": [
        {
          "output_type": "stream",
          "name": "stdout",
          "text": [
            "Requirement already satisfied: transformers>=4.31.0 in /usr/local/lib/python3.12/dist-packages (4.55.4)\n",
            "Collecting transformers>=4.31.0\n",
            "  Downloading transformers-4.56.0-py3-none-any.whl.metadata (40 kB)\n",
            "\u001b[2K     \u001b[90m\u2501\u2501\u2501\u2501\u2501\u2501\u2501\u2501\u2501\u2501\u2501\u2501\u2501\u2501\u2501\u2501\u2501\u2501\u2501\u2501\u2501\u2501\u2501\u2501\u2501\u2501\u2501\u2501\u2501\u2501\u2501\u2501\u2501\u2501\u2501\u2501\u2501\u2501\u2501\u2501\u001b[0m \u001b[32m40.1/40.1 kB\u001b[0m \u001b[31m2.4 MB/s\u001b[0m eta \u001b[36m0:00:00\u001b[0m\n",
            "\u001b[?25hRequirement already satisfied: filelock in /usr/local/lib/python3.12/dist-packages (from transformers>=4.31.0) (3.19.1)\n",
            "Requirement already satisfied: huggingface-hub<1.0,>=0.34.0 in /usr/local/lib/python3.12/dist-packages (from transformers>=4.31.0) (0.34.4)\n",
            "Requirement already satisfied: numpy>=1.17 in /usr/local/lib/python3.12/dist-packages (from transformers>=4.31.0) (2.0.2)\n",
            "Requirement already satisfied: packaging>=20.0 in /usr/local/lib/python3.12/dist-packages (from transformers>=4.31.0) (25.0)\n",
            "Requirement already satisfied: pyyaml>=5.1 in /usr/local/lib/python3.12/dist-packages (from transformers>=4.31.0) (6.0.2)\n",
            "Requirement already satisfied: regex!=2019.12.17 in /usr/local/lib/python3.12/dist-packages (from transformers>=4.31.0) (2024.11.6)\n",
            "Requirement already satisfied: requests in /usr/local/lib/python3.12/dist-packages (from transformers>=4.31.0) (2.32.4)\n",
            "Collecting tokenizers<=0.23.0,>=0.22.0 (from transformers>=4.31.0)\n",
            "  Downloading tokenizers-0.22.0-cp39-abi3-manylinux_2_17_x86_64.manylinux2014_x86_64.whl.metadata (6.8 kB)\n",
            "Requirement already satisfied: safetensors>=0.4.3 in /usr/local/lib/python3.12/dist-packages (from transformers>=4.31.0) (0.6.2)\n",
            "Requirement already satisfied: tqdm>=4.27 in /usr/local/lib/python3.12/dist-packages (from transformers>=4.31.0) (4.67.1)\n",
            "Requirement already satisfied: fsspec>=2023.5.0 in /usr/local/lib/python3.12/dist-packages (from huggingface-hub<1.0,>=0.34.0->transformers>=4.31.0) (2025.3.0)\n",
            "Requirement already satisfied: typing-extensions>=3.7.4.3 in /usr/local/lib/python3.12/dist-packages (from huggingface-hub<1.0,>=0.34.0->transformers>=4.31.0) (4.15.0)\n",
            "Requirement already satisfied: hf-xet<2.0.0,>=1.1.3 in /usr/local/lib/python3.12/dist-packages (from huggingface-hub<1.0,>=0.34.0->transformers>=4.31.0) (1.1.8)\n",
            "Requirement already satisfied: charset_normalizer<4,>=2 in /usr/local/lib/python3.12/dist-packages (from requests->transformers>=4.31.0) (3.4.3)\n",
            "Requirement already satisfied: idna<4,>=2.5 in /usr/local/lib/python3.12/dist-packages (from requests->transformers>=4.31.0) (3.10)\n",
            "Requirement already satisfied: urllib3<3,>=1.21.1 in /usr/local/lib/python3.12/dist-packages (from requests->transformers>=4.31.0) (2.5.0)\n",
            "Requirement already satisfied: certifi>=2017.4.17 in /usr/local/lib/python3.12/dist-packages (from requests->transformers>=4.31.0) (2025.8.3)\n",
            "Downloading transformers-4.56.0-py3-none-any.whl (11.6 MB)\n",
            "\u001b[2K   \u001b[90m\u2501\u2501\u2501\u2501\u2501\u2501\u2501\u2501\u2501\u2501\u2501\u2501\u2501\u2501\u2501\u2501\u2501\u2501\u2501\u2501\u2501\u2501\u2501\u2501\u2501\u2501\u2501\u2501\u2501\u2501\u2501\u2501\u2501\u2501\u2501\u2501\u2501\u2501\u2501\u2501\u001b[0m \u001b[32m11.6/11.6 MB\u001b[0m \u001b[31m117.2 MB/s\u001b[0m eta \u001b[36m0:00:00\u001b[0m\n",
            "\u001b[?25hDownloading tokenizers-0.22.0-cp39-abi3-manylinux_2_17_x86_64.manylinux2014_x86_64.whl (3.3 MB)\n",
            "\u001b[2K   \u001b[90m\u2501\u2501\u2501\u2501\u2501\u2501\u2501\u2501\u2501\u2501\u2501\u2501\u2501\u2501\u2501\u2501\u2501\u2501\u2501\u2501\u2501\u2501\u2501\u2501\u2501\u2501\u2501\u2501\u2501\u2501\u2501\u2501\u2501\u2501\u2501\u2501\u2501\u2501\u2501\u2501\u001b[0m \u001b[32m3.3/3.3 MB\u001b[0m \u001b[31m93.3 MB/s\u001b[0m eta \u001b[36m0:00:00\u001b[0m\n",
            "\u001b[?25hInstalling collected packages: tokenizers, transformers\n",
            "  Attempting uninstall: tokenizers\n",
            "    Found existing installation: tokenizers 0.21.4\n",
            "    Uninstalling tokenizers-0.21.4:\n",
            "      Successfully uninstalled tokenizers-0.21.4\n",
            "  Attempting uninstall: transformers\n",
            "    Found existing installation: transformers 4.55.4\n",
            "    Uninstalling transformers-4.55.4:\n",
            "      Successfully uninstalled transformers-4.55.4\n",
            "Successfully installed tokenizers-0.22.0 transformers-4.56.0\n"
          ]
        },
        {
          "output_type": "display_data",
          "data": {
            "application/vnd.colab-display-data+json": {
              "pip_warning": {
                "packages": [
                  "tokenizers",
                  "transformers"
                ]
              },
              "id": "9c3bef80a5074f2d955346613e367bc4"
            }
          },
          "metadata": {}
        }
      ]
    },
    {
      "cell_type": "code",
      "source": [],
      "metadata": {
        "id": "xaOOytzYy4Zm"
      },
      "execution_count": null,
      "outputs": []
    },
    {
      "cell_type": "code",
      "source": [
        "# ===== LoRA SFT on user/assistant JSONL \u2014 legacy-friendly (no evaluation_strategy) =====\n",
        "# - Uses plain HF Trainer (+ PEFT LoRA)\n",
        "# - Completion-only loss (prompt masked with -100)\n",
        "# - Manual eval AFTER training (no eval during training)\n",
        "\n",
        "import json, random\n",
        "from dataclasses import dataclass\n",
        "from typing import List, Dict\n",
        "import torch\n",
        "from torch.utils.data import Dataset\n",
        "from datasets import load_dataset\n",
        "from transformers import AutoTokenizer, AutoModelForCausalLM, Trainer, TrainingArguments\n",
        "from peft import LoraConfig, get_peft_model\n",
        "\n",
        "SEED = 42\n",
        "random.seed(SEED); torch.manual_seed(SEED)\n",
        "\n",
        "# === Paths & hyperparams ===\n",
        "DATA_JSONL = \"/content/qa_clean_user_assistant.jsonl\"   # <- your cleaned file (prompt, completion)\n",
        "MODEL_NAME = \"facebook/opt-350m\"                        # try small first; swap later\n",
        "OUTPUT_DIR = \"/content/qa_lora_out\"\n",
        "MAX_LEN = 512\n",
        "BATCH = 2\n",
        "EPOCHS = 3\n",
        "LR = 2e-4\n",
        "\n",
        "# === Load & split dataset ===\n",
        "ds = load_dataset(\"json\", data_files=DATA_JSONL, split=\"train\")\n",
        "splits = ds.train_test_split(test_size=0.1, seed=SEED)\n",
        "train_ds, val_ds = splits[\"train\"], splits[\"test\"]\n",
        "\n",
        "# === Tokenizer & base model ===\n",
        "tok = AutoTokenizer.from_pretrained(MODEL_NAME, use_fast=True)\n",
        "if tok.pad_token is None:\n",
        "    tok.pad_token = tok.eos_token\n",
        "base = AutoModelForCausalLM.from_pretrained(MODEL_NAME)\n",
        "\n",
        "# === Apply LoRA (targets for OPT; adjust for other archs if needed) ===\n",
        "lora_cfg = LoraConfig(\n",
        "    r=16, lora_alpha=32, lora_dropout=0.05, bias=\"none\",\n",
        "    task_type=\"CAUSAL_LM\",\n",
        "    target_modules=[\"q_proj\",\"k_proj\",\"v_proj\",\"out_proj\",\"fc1\",\"fc2\"]\n",
        ")\n",
        "model = get_peft_model(base, lora_cfg)\n",
        "\n",
        "# === PyTorch Dataset that masks the prompt (completion-only loss) ===\n",
        "class ChatDataset(Dataset):\n",
        "    def __init__(self, hf_split, tokenizer: AutoTokenizer, max_len: int):\n",
        "        self.data = hf_split\n",
        "        self.tok = tokenizer\n",
        "        self.max_len = max_len\n",
        "\n",
        "    def __len__(self): return len(self.data)\n",
        "\n",
        "    def __getitem__(self, idx):\n",
        "        ex = self.data[idx]\n",
        "        prompt = ex[\"prompt\"]               # e.g., \"User: ...\\nAssistant:\"\n",
        "        completion = ex[\"completion\"]       # assistant text\n",
        "\n",
        "        prompt_ids = self.tok(prompt, add_special_tokens=False)[\"input_ids\"]\n",
        "        # leading space helps separation\n",
        "        completion_ids = self.tok(\" \" + completion, add_special_tokens=False)[\"input_ids\"]\n",
        "\n",
        "        input_ids = prompt_ids + completion_ids + [self.tok.eos_token_id]\n",
        "        labels    = [-100]*len(prompt_ids) + completion_ids + [self.tok.eos_token_id]\n",
        "\n",
        "        # left-truncate if too long (keep tail)\n",
        "        if len(input_ids) > self.max_len:\n",
        "            input_ids = input_ids[-self.max_len:]\n",
        "            labels    = labels[-self.max_len:]\n",
        "\n",
        "        attention_mask = [1]*len(input_ids)\n",
        "\n",
        "        return {\n",
        "            \"input_ids\": torch.tensor(input_ids, dtype=torch.long),\n",
        "            \"attention_mask\": torch.tensor(attention_mask, dtype=torch.long),\n",
        "            \"labels\": torch.tensor(labels, dtype=torch.long),\n",
        "        }\n",
        "\n",
        "train_torch = ChatDataset(train_ds, tok, MAX_LEN)\n",
        "val_torch   = ChatDataset(val_ds, tok, MAX_LEN)\n",
        "\n",
        "# === Simple padding collator ===\n",
        "@dataclass\n",
        "class PadCollator:\n",
        "    pad_id: int\n",
        "    def __call__(self, batch: List[Dict[str, torch.Tensor]]) -> Dict[str, torch.Tensor]:\n",
        "        maxlen = max(x[\"input_ids\"].size(0) for x in batch)\n",
        "        def pad_vec(v, pad_val):\n",
        "            pad_len = maxlen - v.size(0)\n",
        "            if pad_len <= 0: return v\n",
        "            return torch.cat([v, torch.full((pad_len,), pad_val, dtype=v.dtype)], dim=0)\n",
        "\n",
        "        input_ids = torch.stack([pad_vec(x[\"input_ids\"], self.pad_id) for x in batch])\n",
        "        attention = torch.stack([pad_vec(x[\"attention_mask\"], 0) for x in batch])\n",
        "        labels    = torch.stack([pad_vec(x[\"labels\"], -100) for x in batch])\n",
        "        return {\"input_ids\": input_ids, \"attention_mask\": attention, \"labels\": labels}\n",
        "\n",
        "collator = PadCollator(pad_id=tok.pad_token_id)\n",
        "\n",
        "# === TrainingArguments (no evaluation_strategy used) ===\n",
        "args = TrainingArguments(\n",
        "    output_dir=OUTPUT_DIR,\n",
        "    per_device_train_batch_size=BATCH,\n",
        "    per_device_eval_batch_size=BATCH,\n",
        "    gradient_accumulation_steps=1,\n",
        "    learning_rate=LR,\n",
        "    num_train_epochs=EPOCHS,\n",
        "    logging_steps=20,\n",
        "    save_steps=200,\n",
        "    save_total_limit=2,\n",
        "    fp16=torch.cuda.is_available(),\n",
        "    report_to=\"none\",\n",
        ")\n",
        "\n",
        "trainer = Trainer(\n",
        "    model=model,\n",
        "    args=args,\n",
        "    data_collator=collator,\n",
        "    train_dataset=train_torch,\n",
        "    eval_dataset=val_torch,   # we'll call trainer.evaluate() manually\n",
        ")\n",
        "\n",
        "# === Train ===\n",
        "trainer.train()\n",
        "\n",
        "# === Manual evaluation AFTER training ===\n",
        "metrics = trainer.evaluate()   # uses val_torch\n",
        "print(\"Eval metrics:\", metrics)\n",
        "\n",
        "# === Save LoRA adapters & tokenizer ===\n",
        "trainer.model.save_pretrained(OUTPUT_DIR)\n",
        "tok.save_pretrained(OUTPUT_DIR)\n",
        "print(\"Saved LoRA adapters to:\", OUTPUT_DIR)\n",
        "\n",
        "# === Minimal inference helper (loads base + adapters) ===\n",
        "from peft import PeftModel\n",
        "def chat(user_text: str, max_new_tokens=128, temperature=0.2):\n",
        "    base = AutoModelForCausalLM.from_pretrained(MODEL_NAME)\n",
        "    peft = PeftModel.from_pretrained(base, OUTPUT_DIR)\n",
        "    peft.eval()\n",
        "    prompt = f\"User: {user_text}\\nAssistant:\"\n",
        "    inputs = tok(prompt, return_tensors=\"pt\").to(peft.device)\n",
        "    with torch.no_grad():\n",
        "        out = peft.generate(**inputs, max_new_tokens=max_new_tokens, do_sample=False, temperature=temperature)\n",
        "    text = tok.decode(out[0], skip_special_tokens=True)\n",
        "    return text.split(\"Assistant:\")[-1].strip()\n",
        "\n",
        "print(chat(\"what is usuer asking\"))\n"
      ],
      "metadata": {
        "colab": {
          "base_uri": "https://localhost:8080/",
          "height": 1000
        },
        "id": "5Ut209w8zG3v",
        "outputId": "93017e28-ec94-42fa-97b7-733ea7c9c9f6"
      },
      "execution_count": 5,
      "outputs": [
        {
          "output_type": "display_data",
          "data": {
            "text/plain": [
              "<IPython.core.display.HTML object>"
            ],
            "text/html": [
              "\n",
              "    <div>\n",
              "      \n",
              "      <progress value='615' max='615' style='width:300px; height:20px; vertical-align: middle;'></progress>\n",
              "      [615/615 01:52, Epoch 3/3]\n",
              "    </div>\n",
              "    <table border=\"1\" class=\"dataframe\">\n",
              "  <thead>\n",
              " <tr style=\"text-align: left;\">\n",
              "      <th>Step</th>\n",
              "      <th>Training Loss</th>\n",
              "    </tr>\n",
              "  </thead>\n",
              "  <tbody>\n",
              "    <tr>\n",
              "      <td>20</td>\n",
              "      <td>2.418300</td>\n",
              "    </tr>\n",
              "    <tr>\n",
              "      <td>40</td>\n",
              "      <td>2.464000</td>\n",
              "    </tr>\n",
              "    <tr>\n",
              "      <td>60</td>\n",
              "      <td>2.340000</td>\n",
              "    </tr>\n",
              "    <tr>\n",
              "      <td>80</td>\n",
              "      <td>2.473500</td>\n",
              "    </tr>\n",
              "    <tr>\n",
              "      <td>100</td>\n",
              "      <td>2.356700</td>\n",
              "    </tr>\n",
              "    <tr>\n",
              "      <td>120</td>\n",
              "      <td>2.402200</td>\n",
              "    </tr>\n",
              "    <tr>\n",
              "      <td>140</td>\n",
              "      <td>2.309900</td>\n",
              "    </tr>\n",
              "    <tr>\n",
              "      <td>160</td>\n",
              "      <td>2.208100</td>\n",
              "    </tr>\n",
              "    <tr>\n",
              "      <td>180</td>\n",
              "      <td>2.250000</td>\n",
              "    </tr>\n",
              "    <tr>\n",
              "      <td>200</td>\n",
              "      <td>2.169300</td>\n",
              "    </tr>\n",
              "    <tr>\n",
              "      <td>220</td>\n",
              "      <td>1.954700</td>\n",
              "    </tr>\n",
              "    <tr>\n",
              "      <td>240</td>\n",
              "      <td>1.819500</td>\n",
              "    </tr>\n",
              "    <tr>\n",
              "      <td>260</td>\n",
              "      <td>1.881400</td>\n",
              "    </tr>\n",
              "    <tr>\n",
              "      <td>280</td>\n",
              "      <td>2.155700</td>\n",
              "    </tr>\n",
              "    <tr>\n",
              "      <td>300</td>\n",
              "      <td>2.004800</td>\n",
              "    </tr>\n",
              "    <tr>\n",
              "      <td>320</td>\n",
              "      <td>2.012100</td>\n",
              "    </tr>\n",
              "    <tr>\n",
              "      <td>340</td>\n",
              "      <td>1.971400</td>\n",
              "    </tr>\n",
              "    <tr>\n",
              "      <td>360</td>\n",
              "      <td>1.929200</td>\n",
              "    </tr>\n",
              "    <tr>\n",
              "      <td>380</td>\n",
              "      <td>2.045500</td>\n",
              "    </tr>\n",
              "    <tr>\n",
              "      <td>400</td>\n",
              "      <td>1.941700</td>\n",
              "    </tr>\n",
              "    <tr>\n",
              "      <td>420</td>\n",
              "      <td>1.914100</td>\n",
              "    </tr>\n",
              "    <tr>\n",
              "      <td>440</td>\n",
              "      <td>1.721600</td>\n",
              "    </tr>\n",
              "    <tr>\n",
              "      <td>460</td>\n",
              "      <td>1.806400</td>\n",
              "    </tr>\n",
              "    <tr>\n",
              "      <td>480</td>\n",
              "      <td>1.748400</td>\n",
              "    </tr>\n",
              "    <tr>\n",
              "      <td>500</td>\n",
              "      <td>1.800800</td>\n",
              "    </tr>\n",
              "    <tr>\n",
              "      <td>520</td>\n",
              "      <td>1.757400</td>\n",
              "    </tr>\n",
              "    <tr>\n",
              "      <td>540</td>\n",
              "      <td>1.649800</td>\n",
              "    </tr>\n",
              "    <tr>\n",
              "      <td>560</td>\n",
              "      <td>1.678700</td>\n",
              "    </tr>\n",
              "    <tr>\n",
              "      <td>580</td>\n",
              "      <td>1.835200</td>\n",
              "    </tr>\n",
              "    <tr>\n",
              "      <td>600</td>\n",
              "      <td>1.780600</td>\n",
              "    </tr>\n",
              "  </tbody>\n",
              "</table><p>"
            ]
          },
          "metadata": {}
        },
        {
          "output_type": "display_data",
          "data": {
            "text/plain": [
              "<IPython.core.display.HTML object>"
            ],
            "text/html": [
              "\n",
              "    <div>\n",
              "      \n",
              "      <progress value='23' max='23' style='width:300px; height:20px; vertical-align: middle;'></progress>\n",
              "      [23/23 00:01]\n",
              "    </div>\n",
              "    "
            ]
          },
          "metadata": {}
        },
        {
          "output_type": "stream",
          "name": "stdout",
          "text": [
            "Eval metrics: {'eval_loss': 2.107499361038208, 'eval_runtime': 1.4201, 'eval_samples_per_second': 32.392, 'eval_steps_per_second': 16.196, 'epoch': 3.0}\n",
            "Saved LoRA adapters to: /content/qa_lora_out\n",
            "Usuer is asking for a password manager.\n"
          ]
        }
      ]
    },
    {
      "cell_type": "code",
      "source": [
        "print(chat(\"How can I find AbdulMuiz Shaikh on LinkedIn?\"))"
      ],
      "metadata": {
        "colab": {
          "base_uri": "https://localhost:8080/"
        },
        "id": "r0GGgjDt0ZwO",
        "outputId": "bad444b0-b053-4775-e79a-45ea9ad56683"
      },
      "execution_count": 7,
      "outputs": [
        {
          "output_type": "stream",
          "name": "stdout",
          "text": [
            "You can find AbdulMuiz Shaikh on LinkedIn by searching for his name, LinkedIn profile, and LinkedIn profile link.\n"
          ]
        }
      ]
    },
    {
      "cell_type": "code",
      "source": [
        "print(chat(\"What is the role of OpenAI's Whisper API in the context of autonumous vehicles\"))"
      ],
      "metadata": {
        "colab": {
          "base_uri": "https://localhost:8080/"
        },
        "id": "JYhT_-fk29L0",
        "outputId": "29d1b7b7-c5e4-46fb-f851-3bbcd1f3e2d2"
      },
      "execution_count": 9,
      "outputs": [
        {
          "output_type": "stream",
          "name": "stdout",
          "text": [
            "OpenAI's Whisper API is a tool that allows automakers to communicate with Autonumous vehicles via voice commands. This allows automakers to communicate with Autonumous vehicles via voice commands, such as \"Hey, I'm driving a car.\" The Whisper API is used to communicate with Autonumous vehicles via voice commands, such as \"Hey, I'm driving a car.\"\n"
          ]
        }
      ]
    },
    {
      "cell_type": "code",
      "source": [
        "print(chat(\"What field does AbdulMuiz Shaikh work in?\"))"
      ],
      "metadata": {
        "colab": {
          "base_uri": "https://localhost:8080/"
        },
        "id": "8Dcm-lnN33X0",
        "outputId": "37b75fd1-9cbe-4746-e339-6e12375991d2"
      },
      "execution_count": 10,
      "outputs": [
        {
          "output_type": "stream",
          "name": "stdout",
          "text": [
            "AbdulMuiz Shaikh works in the field of Information Technology.\n"
          ]
        }
      ]
    }
  ],
  "metadata": {
    "colab": {
      "provenance": []
    },
    "kernelspec": {
      "display_name": "Python 3",
      "name": "python3"
    },
    "language_info": {
      "name": "python"
    }
  },
  "nbformat": 4,
  "nbformat_minor": 0
}